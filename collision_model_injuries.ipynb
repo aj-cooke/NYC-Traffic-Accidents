{
 "cells": [
  {
   "cell_type": "markdown",
   "metadata": {},
   "source": [
    "# Injuries in Collision Prediction"
   ]
  },
  {
   "cell_type": "code",
   "execution_count": 131,
   "metadata": {},
   "outputs": [],
   "source": [
    "import warnings\n",
    "import seaborn as sns\n",
    "import pandas as pd\n",
    "from sklearn import model_selection, linear_model, discriminant_analysis, ensemble\n",
    "warnings.filterwarnings('ignore')\n",
    "pd.set_option('display.float_format','{:.2f}'.format)\n",
    "random_state=42"
   ]
  },
  {
   "cell_type": "markdown",
   "metadata": {},
   "source": [
    "## Read data\n",
    "+ run the collision_model_features.py file to get three data sets.\n",
    "    + new_collisions\n",
    "    + traffic_byhour\n",
    "    + traffic_bydayofweek\n",
    "+ read the three table to this notebook"
   ]
  },
  {
   "cell_type": "code",
   "execution_count": 132,
   "metadata": {},
   "outputs": [],
   "source": [
    "path = '../matched_data/crash_matched_data'\n",
    "collisions = pd.read_csv(\n",
    "    path + '/new_collisions.csv')\n",
    "traffic_byhour = pd.read_csv(\n",
    "    path + '/traffic_byhour.csv')\n",
    "traffic_bydayofweek = pd.read_csv(\n",
    "    path + '/traffic_bydayofweek.csv')"
   ]
  },
  {
   "cell_type": "code",
   "execution_count": 133,
   "metadata": {},
   "outputs": [
    {
     "name": "stdout",
     "output_type": "stream",
     "text": [
      "<class 'pandas.core.frame.DataFrame'>\n",
      "Int64Index: 944783 entries, 29 to 6849496\n",
      "Data columns (total 15 columns):\n",
      " #   Column                         Non-Null Count   Dtype  \n",
      "---  ------                         --------------   -----  \n",
      " 0   NUMBER OF PERSONS INJURED      944783 non-null  float64\n",
      " 1   NUMBER OF PERSONS KILLED       944783 non-null  float64\n",
      " 2   NUMBER OF PEDESTRIANS INJURED  944783 non-null  int64  \n",
      " 3   NUMBER OF PEDESTRIANS KILLED   944783 non-null  int64  \n",
      " 4   NUMBER OF CYCLIST INJURED      944783 non-null  int64  \n",
      " 5   NUMBER OF CYCLIST KILLED       944783 non-null  int64  \n",
      " 6   NUMBER OF MOTORIST INJURED     944783 non-null  int64  \n",
      " 7   NUMBER OF MOTORIST KILLED      944783 non-null  int64  \n",
      " 8   dayofweek                      944783 non-null  int64  \n",
      " 9   time                           944783 non-null  int64  \n",
      " 10  speed_bumps                    944783 non-null  float64\n",
      " 11  speed_limits                   944783 non-null  float64\n",
      " 12  bike_lanes                     944783 non-null  float64\n",
      " 13  medianWeek                     944783 non-null  float64\n",
      " 14  medianHour                     944783 non-null  float64\n",
      "dtypes: float64(7), int64(8)\n",
      "memory usage: 115.3 MB\n"
     ]
    }
   ],
   "source": [
    "# merge collisions dataset and two traffic datasets\n",
    "# there may be missing values after joining, because only limited traffic volumes were only recorded on limited days\n",
    "collisions = pd.merge(left=collisions, right=traffic_bydayofweek, how='left', on=['streetID','dayofweek'])\n",
    "collisions = pd.merge(left=collisions, right=traffic_byhour, how='left', on=['streetID', 'time'])\n",
    "collisions = collisions.dropna(subset = ['medianWeek', 'medianHour'])\n",
    "\n",
    "# select columns that will be used in the model\n",
    "collisions = collisions.loc[:,['NUMBER OF PERSONS INJURED', 'NUMBER OF PERSONS KILLED', \n",
    "       'NUMBER OF PEDESTRIANS INJURED', 'NUMBER OF PEDESTRIANS KILLED', \n",
    "       'NUMBER OF CYCLIST INJURED', 'NUMBER OF CYCLIST KILLED', \n",
    "       'NUMBER OF MOTORIST INJURED', 'NUMBER OF MOTORIST KILLED', \n",
    "       'dayofweek', 'time', 'speed_bumps', 'speed_limits',\n",
    "       'bike_lanes', 'medianWeek', 'medianHour']]\n",
    "collisions.info()"
   ]
  },
  {
   "cell_type": "code",
   "execution_count": 134,
   "metadata": {},
   "outputs": [
    {
     "data": {
      "text/plain": [
       "Index(['NUMBER OF PERSONS INJURED', 'NUMBER OF PERSONS KILLED',\n",
       "       'NUMBER OF PEDESTRIANS INJURED', 'NUMBER OF PEDESTRIANS KILLED',\n",
       "       'NUMBER OF CYCLIST INJURED', 'NUMBER OF CYCLIST KILLED',\n",
       "       'NUMBER OF MOTORIST INJURED', 'NUMBER OF MOTORIST KILLED', 'dayofweek',\n",
       "       'time', 'speed_bumps', 'speed_limits', 'bike_lanes', 'medianWeek',\n",
       "       'medianHour'],\n",
       "      dtype='object')"
      ]
     },
     "execution_count": 134,
     "metadata": {},
     "output_type": "execute_result"
    }
   ],
   "source": [
    "collisions.columns"
   ]
  },
  {
   "cell_type": "code",
   "execution_count": 135,
   "metadata": {},
   "outputs": [
    {
     "name": "stdout",
     "output_type": "stream",
     "text": [
      "[721455, 223328]\n"
     ]
    }
   ],
   "source": [
    "# check if the dataset is imbalanced\n",
    "print([sum(collisions['NUMBER OF PERSONS INJURED'] == 0), sum(collisions['NUMBER OF PERSONS INJURED'] > 0)])\n",
    "# use undersampling to cut the number of rows for  NUMBER OF PERSONS INJURED == 0.\n",
    "noinjuries = collisions.loc[collisions['NUMBER OF PERSONS INJURED'] == 0].sample(n=30000,random_state=random_state)\n",
    "oneinjuries = collisions.loc[collisions['NUMBER OF PERSONS INJURED'] == 1].sample(n=30000,random_state=random_state)\n",
    "twoinjuries = collisions.loc[collisions['NUMBER OF PERSONS INJURED'] == 2]\n",
    "moreinjuries = collisions.loc[collisions['NUMBER OF PERSONS INJURED'] > 2]\n",
    "moreinjuries['NUMBER OF PERSONS INJURED'] = 3\n",
    "collisions = pd.concat([noinjuries, oneinjuries, twoinjuries, moreinjuries])"
   ]
  },
  {
   "cell_type": "markdown",
   "metadata": {},
   "source": [
    "## Number of injuries prediction\n",
    "+ Quesiton: how many people will get injuried in a collision.\n",
    "+ Classification problem: the outcome variable is a categorical variable. 0 people get injuried, 1 people get injuried, 2 people get injuried, and more than 3 people get injuried.\n",
    "+ Method: random forest"
   ]
  },
  {
   "cell_type": "code",
   "execution_count": 136,
   "metadata": {},
   "outputs": [
    {
     "data": {
      "text/plain": [
       "<AxesSubplot: ylabel='Count'>"
      ]
     },
     "execution_count": 136,
     "metadata": {},
     "output_type": "execute_result"
    },
    {
     "data": {
      "image/png": "[encoded data removed]",
      "text/plain": [
       "<Figure size 640x480 with 1 Axes>"
      ]
     },
     "metadata": {},
     "output_type": "display_data"
    }
   ],
   "source": [
    "X = collisions.loc[:,['dayofweek', 'time', 'speed_bumps', 'speed_limits', 'bike_lanes', 'medianWeek', 'medianHour']]\n",
    "y = collisions.loc[:,['NUMBER OF PERSONS INJURED']]\n",
    "X_train, X_test, y_train, y_test = model_selection.train_test_split(X, y, test_size=0.3, random_state=random_state)\n",
    "# seaborn histogram\n",
    "sns.histplot(y)"
   ]
  },
  {
   "cell_type": "code",
   "execution_count": 137,
   "metadata": {},
   "outputs": [
    {
     "name": "stdout",
     "output_type": "stream",
     "text": [
      "0.005678898085881956\n",
      "0.3167532485240179\n"
     ]
    }
   ],
   "source": [
    "# # bad fittings\n",
    "# # I tried to predict the number of injuried, but couldn't get a good fitting. Thus, I redefined a classification problem.\n",
    "# linear regression\n",
    "reg = linear_model.LinearRegression()\n",
    "reg.fit(X_train, y_train)\n",
    "print(reg.score(X_train, y_train))\n",
    "\n",
    "# Multiclass LDA\n",
    "clf = discriminant_analysis.LinearDiscriminantAnalysis()\n",
    "clf.fit(X_train, y_train)\n",
    "print(clf.score(X_train, y_train))"
   ]
  },
  {
   "cell_type": "code",
   "execution_count": 138,
   "metadata": {},
   "outputs": [
    {
     "data": {
      "text/plain": [
       "0.776604205771005"
      ]
     },
     "execution_count": 138,
     "metadata": {},
     "output_type": "execute_result"
    }
   ],
   "source": [
    "# random forest\n",
    "rd = ensemble.RandomForestClassifier()\n",
    "rd.fit(X_train, y_train)\n",
    "rd.score(X_train, y_train)\n",
    "rd.score(X_test, y_test)"
   ]
  }
 ],
 "metadata": {
  "kernelspec": {
   "display_name": "Python 3.11.0 ('geoplotEnv')",
   "language": "python",
   "name": "python3"
  },
  "language_info": {
   "codemirror_mode": {
    "name": "ipython",
    "version": 3
   },
   "file_extension": ".py",
   "mimetype": "text/x-python",
   "name": "python",
   "nbconvert_exporter": "python",
   "pygments_lexer": "ipython3",
   "version": "3.11.0"
  },
  "orig_nbformat": 4,
  "vscode": {
   "interpreter": {
    "hash": "0f00fe399c34213fa5aac44acd745906a9257e5c95af5a9023b5a94b3efe86bb"
   }
  }
 },
 "nbformat": 4,
 "nbformat_minor": 2
}
