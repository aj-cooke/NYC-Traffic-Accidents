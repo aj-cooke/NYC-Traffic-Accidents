{
 "cells": [
  {
   "cell_type": "code",
   "execution_count": 58,
   "id": "f1397027",
   "metadata": {},
   "outputs": [],
   "source": [
    "#import libraries\n",
    "import pandas as pd\n",
    "import numpy as np\n",
    "import matplotlib.pyplot as plt\n",
    "import warnings\n",
    "warnings.filterwarnings('ignore')\n",
    "pd.set_option('display.max_columns', 500)\n",
    "from imblearn import over_sampling\n",
    "from sklearn import ensemble\n",
    "from sklearn.metrics import confusion_matrix, recall_score\n",
    "from sklearn.model_selection import GridSearchCV, StratifiedKFold, train_test_split\n",
    "from sklearn.linear_model import LogisticRegression\n",
    "from sklearn.neighbors import KNeighborsClassifier\n",
    "import sklearn.model_selection as ms\n",
    "plt.style.use('ggplot')"
   ]
  },
  {
   "cell_type": "markdown",
   "id": "80c3c633",
   "metadata": {},
   "source": [
    "## Pre-Processing and Feature Engineering"
   ]
  },
  {
   "cell_type": "code",
   "execution_count": 8,
   "id": "3afd0416",
   "metadata": {},
   "outputs": [],
   "source": [
    "# Use the TrafficFeature class to get the traffic volumes\n",
    "collisions = pd.read_csv('new_collisions.csv')\n",
    "traffic_byhour = pd.read_csv('traffic_byhour.csv')\n",
    "traffic_bydayofweek = pd.read_csv('traffic_bydayofweek.csv')"
   ]
  },
  {
   "cell_type": "code",
   "execution_count": 9,
   "id": "995fb49b",
   "metadata": {},
   "outputs": [
    {
     "name": "stdout",
     "output_type": "stream",
     "text": [
      "<class 'pandas.core.frame.DataFrame'>\n",
      "Int64Index: 944783 entries, 29 to 6849496\n",
      "Data columns (total 15 columns):\n",
      " #   Column                         Non-Null Count   Dtype  \n",
      "---  ------                         --------------   -----  \n",
      " 0   NUMBER OF PERSONS INJURED      944783 non-null  float64\n",
      " 1   NUMBER OF PERSONS KILLED       944783 non-null  float64\n",
      " 2   NUMBER OF PEDESTRIANS INJURED  944783 non-null  int64  \n",
      " 3   NUMBER OF PEDESTRIANS KILLED   944783 non-null  int64  \n",
      " 4   NUMBER OF CYCLIST INJURED      944783 non-null  int64  \n",
      " 5   NUMBER OF CYCLIST KILLED       944783 non-null  int64  \n",
      " 6   NUMBER OF MOTORIST INJURED     944783 non-null  int64  \n",
      " 7   NUMBER OF MOTORIST KILLED      944783 non-null  int64  \n",
      " 8   dayofweek                      944783 non-null  int64  \n",
      " 9   time                           944783 non-null  int64  \n",
      " 10  speed_bumps                    944783 non-null  float64\n",
      " 11  speed_limits                   944783 non-null  float64\n",
      " 12  bike_lanes                     944783 non-null  float64\n",
      " 13  medianWeek                     944783 non-null  float64\n",
      " 14  medianHour                     944783 non-null  float64\n",
      "dtypes: float64(7), int64(8)\n",
      "memory usage: 115.3 MB\n"
     ]
    }
   ],
   "source": [
    "# merge collisions dataset and two traffic datasets\n",
    "# there may be missing values after joining, because only limited traffic volumes were only recorded on limited days\n",
    "collisions = pd.merge(left=collisions, right=traffic_bydayofweek, how='left', on=['streetID','dayofweek'])\n",
    "collisions = pd.merge(left=collisions, right=traffic_byhour, how='left', on=['streetID', 'time'])\n",
    "collisions = collisions.dropna(subset = ['medianWeek', 'medianHour'])\n",
    "\n",
    "# select columns that will be used in the model\n",
    "collisions = collisions.loc[:,['NUMBER OF PERSONS INJURED', 'NUMBER OF PERSONS KILLED', \n",
    "       'NUMBER OF PEDESTRIANS INJURED', 'NUMBER OF PEDESTRIANS KILLED', \n",
    "       'NUMBER OF CYCLIST INJURED', 'NUMBER OF CYCLIST KILLED', \n",
    "       'NUMBER OF MOTORIST INJURED', 'NUMBER OF MOTORIST KILLED', \n",
    "       'dayofweek', 'time', 'speed_bumps', 'speed_limits',\n",
    "       'bike_lanes', 'medianWeek', 'medianHour']]\n",
    "collisions.info()"
   ]
  },
  {
   "cell_type": "code",
   "execution_count": 26,
   "id": "efeee62c",
   "metadata": {},
   "outputs": [],
   "source": [
    "#create df to compare model scores at the end of modeling\n",
    "recall_scores = pd.DataFrame(columns=('Model', 'Score'))"
   ]
  },
  {
   "cell_type": "code",
   "execution_count": 12,
   "id": "a753502b",
   "metadata": {},
   "outputs": [],
   "source": [
    "#convert target variable to binary values\n",
    "collisions['NUMBER OF PERSONS KILLED'].mask(collisions['NUMBER OF PERSONS KILLED'] > 1 , 1, inplace=True)"
   ]
  },
  {
   "cell_type": "code",
   "execution_count": 13,
   "id": "ef091dd8",
   "metadata": {},
   "outputs": [
    {
     "data": {
      "text/plain": [
       "0.0    943394\n",
       "1.0      1389\n",
       "Name: NUMBER OF PERSONS KILLED, dtype: int64"
      ]
     },
     "execution_count": 13,
     "metadata": {},
     "output_type": "execute_result"
    }
   ],
   "source": [
    "collisions['NUMBER OF PERSONS KILLED'].value_counts()"
   ]
  },
  {
   "cell_type": "code",
   "execution_count": 33,
   "id": "34e8d296",
   "metadata": {},
   "outputs": [],
   "source": [
    "#set target and predictor variables\n",
    "X = collisions.loc[:,['dayofweek', 'time', 'speed_bumps', 'speed_limits', 'bike_lanes', 'medianWeek', 'medianHour']]\n",
    "y = collisions.loc[:,['NUMBER OF PERSONS KILLED']]\n",
    "\n",
    "#train test split\n",
    "X_train, X_test, y_train, y_test = train_test_split(X, y, test_size=0.3, random_state=42, stratify=y)"
   ]
  },
  {
   "cell_type": "code",
   "execution_count": 34,
   "id": "f4b30f72",
   "metadata": {},
   "outputs": [],
   "source": [
    "\n",
    "#use as cv=skf, ensures results are consistent in each partition\n",
    "s_kf = StratifiedKFold(n_splits=5, random_state=42, shuffle=True);\n"
   ]
  },
  {
   "cell_type": "code",
   "execution_count": 35,
   "id": "3d99b790",
   "metadata": {},
   "outputs": [
    {
     "data": {
      "text/plain": [
       "<AxesSubplot:ylabel='Count'>"
      ]
     },
     "execution_count": 35,
     "metadata": {},
     "output_type": "execute_result"
    },
    {
     "data": {
      "image/png": "[encoded data removed]",
      "text/plain": [
       "<Figure size 432x288 with 1 Axes>"
      ]
     },
     "metadata": {},
     "output_type": "display_data"
    }
   ],
   "source": [
    "#seaborn histogram\n",
    "sns.histplot(y)"
   ]
  },
  {
   "cell_type": "code",
   "execution_count": 36,
   "id": "92c9c0a4",
   "metadata": {},
   "outputs": [
    {
     "data": {
      "text/plain": [
       "NUMBER OF PERSONS KILLED\n",
       "0.0                         660376\n",
       "1.0                         660376\n",
       "dtype: int64"
      ]
     },
     "execution_count": 36,
     "metadata": {},
     "output_type": "execute_result"
    }
   ],
   "source": [
    "# SMOTE upsampling for all models\n",
    "oversample = over_sampling.SMOTE()\n",
    "X_train_Bal, y_train_Bal = oversample.fit_resample(X_train, y_train)\n",
    "\n",
    "y_train_Bal.value_counts()"
   ]
  },
  {
   "cell_type": "markdown",
   "id": "538aac6f",
   "metadata": {},
   "source": [
    "## Correlation Matrix"
   ]
  },
  {
   "cell_type": "code",
   "execution_count": 37,
   "id": "cedd231d",
   "metadata": {
    "scrolled": true
   },
   "outputs": [
    {
     "data": {
      "text/html": [
       "<style type=\"text/css\">\n",
       "#T_72311_row0_col0, #T_72311_row1_col1, #T_72311_row2_col2, #T_72311_row3_col3, #T_72311_row4_col4, #T_72311_row5_col5, #T_72311_row6_col6, #T_72311_row7_col7, #T_72311_row8_col8, #T_72311_row9_col9, #T_72311_row10_col10, #T_72311_row11_col11, #T_72311_row12_col12, #T_72311_row13_col13, #T_72311_row14_col14 {\n",
       "  background-color: #b40426;\n",
       "  color: #f1f1f1;\n",
       "}\n",
       "#T_72311_row0_col1, #T_72311_row1_col0, #T_72311_row1_col6, #T_72311_row2_col8, #T_72311_row2_col11, #T_72311_row6_col13, #T_72311_row6_col14, #T_72311_row8_col2, #T_72311_row11_col2, #T_72311_row12_col9, #T_72311_row12_col14, #T_72311_row13_col6 {\n",
       "  background-color: #3f53c6;\n",
       "  color: #f1f1f1;\n",
       "}\n",
       "#T_72311_row0_col2, #T_72311_row2_col0 {\n",
       "  background-color: #a2c1ff;\n",
       "  color: #000000;\n",
       "}\n",
       "#T_72311_row0_col3, #T_72311_row0_col5, #T_72311_row0_col8, #T_72311_row1_col9, #T_72311_row1_col14, #T_72311_row3_col0, #T_72311_row3_col4, #T_72311_row3_col8, #T_72311_row3_col14, #T_72311_row4_col3, #T_72311_row4_col7, #T_72311_row5_col0, #T_72311_row5_col10, #T_72311_row5_col12, #T_72311_row6_col5, #T_72311_row6_col9, #T_72311_row7_col8, #T_72311_row8_col0, #T_72311_row8_col3, #T_72311_row8_col7, #T_72311_row8_col12, #T_72311_row9_col3, #T_72311_row9_col5, #T_72311_row9_col7, #T_72311_row9_col11, #T_72311_row10_col5, #T_72311_row12_col5, #T_72311_row12_col8, #T_72311_row13_col1, #T_72311_row13_col3, #T_72311_row13_col5, #T_72311_row14_col5, #T_72311_row14_col7 {\n",
       "  background-color: #3c4ec2;\n",
       "  color: #f1f1f1;\n",
       "}\n",
       "#T_72311_row0_col4, #T_72311_row4_col0 {\n",
       "  background-color: #7ea1fa;\n",
       "  color: #f1f1f1;\n",
       "}\n",
       "#T_72311_row0_col6, #T_72311_row6_col0 {\n",
       "  background-color: #dc5d4a;\n",
       "  color: #f1f1f1;\n",
       "}\n",
       "#T_72311_row0_col7, #T_72311_row0_col13, #T_72311_row2_col13, #T_72311_row7_col0, #T_72311_row9_col2, #T_72311_row9_col4, #T_72311_row13_col0, #T_72311_row13_col2, #T_72311_row14_col2 {\n",
       "  background-color: #445acc;\n",
       "  color: #f1f1f1;\n",
       "}\n",
       "#T_72311_row0_col9, #T_72311_row0_col12, #T_72311_row4_col5, #T_72311_row4_col11, #T_72311_row5_col4, #T_72311_row6_col11, #T_72311_row8_col9, #T_72311_row8_col10, #T_72311_row9_col0, #T_72311_row9_col1, #T_72311_row9_col6, #T_72311_row10_col8, #T_72311_row11_col4, #T_72311_row11_col6, #T_72311_row12_col0, #T_72311_row14_col1, #T_72311_row14_col3 {\n",
       "  background-color: #3d50c3;\n",
       "  color: #f1f1f1;\n",
       "}\n",
       "#T_72311_row0_col10, #T_72311_row2_col10, #T_72311_row4_col13, #T_72311_row4_col14, #T_72311_row6_col8, #T_72311_row8_col6, #T_72311_row9_col8, #T_72311_row10_col0, #T_72311_row10_col2, #T_72311_row10_col11, #T_72311_row11_col10, #T_72311_row11_col12, #T_72311_row12_col11, #T_72311_row13_col4, #T_72311_row14_col4 {\n",
       "  background-color: #3e51c5;\n",
       "  color: #f1f1f1;\n",
       "}\n",
       "#T_72311_row0_col11, #T_72311_row1_col2, #T_72311_row1_col4, #T_72311_row1_col8, #T_72311_row1_col10, #T_72311_row1_col11, #T_72311_row1_col12, #T_72311_row1_col13, #T_72311_row2_col1, #T_72311_row2_col3, #T_72311_row2_col5, #T_72311_row2_col7, #T_72311_row2_col12, #T_72311_row3_col2, #T_72311_row3_col5, #T_72311_row3_col6, #T_72311_row3_col7, #T_72311_row3_col9, #T_72311_row3_col10, #T_72311_row3_col11, #T_72311_row3_col12, #T_72311_row3_col13, #T_72311_row4_col1, #T_72311_row4_col8, #T_72311_row5_col2, #T_72311_row5_col3, #T_72311_row5_col6, #T_72311_row5_col7, #T_72311_row5_col8, #T_72311_row5_col9, #T_72311_row5_col11, #T_72311_row5_col13, #T_72311_row5_col14, #T_72311_row6_col3, #T_72311_row6_col10, #T_72311_row7_col2, #T_72311_row7_col3, #T_72311_row7_col4, #T_72311_row7_col5, #T_72311_row7_col9, #T_72311_row7_col10, #T_72311_row7_col11, #T_72311_row7_col12, #T_72311_row7_col13, #T_72311_row7_col14, #T_72311_row8_col1, #T_72311_row8_col4, #T_72311_row8_col5, #T_72311_row8_col11, #T_72311_row9_col10, #T_72311_row9_col13, #T_72311_row10_col1, #T_72311_row10_col3, #T_72311_row10_col6, #T_72311_row10_col7, #T_72311_row10_col9, #T_72311_row11_col0, #T_72311_row11_col1, #T_72311_row11_col3, #T_72311_row11_col5, #T_72311_row11_col7, #T_72311_row11_col8, #T_72311_row11_col9, #T_72311_row12_col1, #T_72311_row12_col2, #T_72311_row12_col3, #T_72311_row12_col7, #T_72311_row13_col7, #T_72311_row13_col9 {\n",
       "  background-color: #3b4cc0;\n",
       "  color: #f1f1f1;\n",
       "}\n",
       "#T_72311_row0_col14, #T_72311_row6_col7, #T_72311_row7_col6, #T_72311_row14_col0 {\n",
       "  background-color: #455cce;\n",
       "  color: #f1f1f1;\n",
       "}\n",
       "#T_72311_row1_col3 {\n",
       "  background-color: #f49a7b;\n",
       "  color: #000000;\n",
       "}\n",
       "#T_72311_row1_col5, #T_72311_row5_col1 {\n",
       "  background-color: #97b8ff;\n",
       "  color: #000000;\n",
       "}\n",
       "#T_72311_row1_col7, #T_72311_row7_col1 {\n",
       "  background-color: #efcfbf;\n",
       "  color: #000000;\n",
       "}\n",
       "#T_72311_row2_col4, #T_72311_row4_col2, #T_72311_row4_col12, #T_72311_row12_col4 {\n",
       "  background-color: #465ecf;\n",
       "  color: #f1f1f1;\n",
       "}\n",
       "#T_72311_row2_col6, #T_72311_row6_col2, #T_72311_row10_col14 {\n",
       "  background-color: #4f69d9;\n",
       "  color: #f1f1f1;\n",
       "}\n",
       "#T_72311_row2_col9, #T_72311_row2_col14, #T_72311_row4_col9, #T_72311_row14_col8 {\n",
       "  background-color: #4358cb;\n",
       "  color: #f1f1f1;\n",
       "}\n",
       "#T_72311_row3_col1 {\n",
       "  background-color: #f59c7d;\n",
       "  color: #000000;\n",
       "}\n",
       "#T_72311_row4_col6, #T_72311_row6_col4 {\n",
       "  background-color: #4b64d5;\n",
       "  color: #f1f1f1;\n",
       "}\n",
       "#T_72311_row4_col10, #T_72311_row6_col12, #T_72311_row8_col13, #T_72311_row8_col14, #T_72311_row10_col4, #T_72311_row13_col8 {\n",
       "  background-color: #4257c9;\n",
       "  color: #f1f1f1;\n",
       "}\n",
       "#T_72311_row6_col1, #T_72311_row9_col12, #T_72311_row12_col6, #T_72311_row12_col13, #T_72311_row13_col12, #T_72311_row14_col6, #T_72311_row14_col12 {\n",
       "  background-color: #4055c8;\n",
       "  color: #f1f1f1;\n",
       "}\n",
       "#T_72311_row9_col14 {\n",
       "  background-color: #5e7de7;\n",
       "  color: #f1f1f1;\n",
       "}\n",
       "#T_72311_row10_col12, #T_72311_row12_col10 {\n",
       "  background-color: #6180e9;\n",
       "  color: #f1f1f1;\n",
       "}\n",
       "#T_72311_row10_col13, #T_72311_row13_col10, #T_72311_row14_col10 {\n",
       "  background-color: #506bda;\n",
       "  color: #f1f1f1;\n",
       "}\n",
       "#T_72311_row11_col13 {\n",
       "  background-color: #5470de;\n",
       "  color: #f1f1f1;\n",
       "}\n",
       "#T_72311_row11_col14, #T_72311_row13_col11 {\n",
       "  background-color: #5572df;\n",
       "  color: #f1f1f1;\n",
       "}\n",
       "#T_72311_row13_col14, #T_72311_row14_col13 {\n",
       "  background-color: #d75445;\n",
       "  color: #f1f1f1;\n",
       "}\n",
       "#T_72311_row14_col9 {\n",
       "  background-color: #5d7ce6;\n",
       "  color: #f1f1f1;\n",
       "}\n",
       "#T_72311_row14_col11 {\n",
       "  background-color: #5673e0;\n",
       "  color: #f1f1f1;\n",
       "}\n",
       "</style>\n",
       "<table id=\"T_72311\">\n",
       "  <thead>\n",
       "    <tr>\n",
       "      <th class=\"blank level0\" >&nbsp;</th>\n",
       "      <th id=\"T_72311_level0_col0\" class=\"col_heading level0 col0\" >NUMBER OF PERSONS INJURED</th>\n",
       "      <th id=\"T_72311_level0_col1\" class=\"col_heading level0 col1\" >NUMBER OF PERSONS KILLED</th>\n",
       "      <th id=\"T_72311_level0_col2\" class=\"col_heading level0 col2\" >NUMBER OF PEDESTRIANS INJURED</th>\n",
       "      <th id=\"T_72311_level0_col3\" class=\"col_heading level0 col3\" >NUMBER OF PEDESTRIANS KILLED</th>\n",
       "      <th id=\"T_72311_level0_col4\" class=\"col_heading level0 col4\" >NUMBER OF CYCLIST INJURED</th>\n",
       "      <th id=\"T_72311_level0_col5\" class=\"col_heading level0 col5\" >NUMBER OF CYCLIST KILLED</th>\n",
       "      <th id=\"T_72311_level0_col6\" class=\"col_heading level0 col6\" >NUMBER OF MOTORIST INJURED</th>\n",
       "      <th id=\"T_72311_level0_col7\" class=\"col_heading level0 col7\" >NUMBER OF MOTORIST KILLED</th>\n",
       "      <th id=\"T_72311_level0_col8\" class=\"col_heading level0 col8\" >dayofweek</th>\n",
       "      <th id=\"T_72311_level0_col9\" class=\"col_heading level0 col9\" >time</th>\n",
       "      <th id=\"T_72311_level0_col10\" class=\"col_heading level0 col10\" >speed_bumps</th>\n",
       "      <th id=\"T_72311_level0_col11\" class=\"col_heading level0 col11\" >speed_limits</th>\n",
       "      <th id=\"T_72311_level0_col12\" class=\"col_heading level0 col12\" >bike_lanes</th>\n",
       "      <th id=\"T_72311_level0_col13\" class=\"col_heading level0 col13\" >medianWeek</th>\n",
       "      <th id=\"T_72311_level0_col14\" class=\"col_heading level0 col14\" >medianHour</th>\n",
       "    </tr>\n",
       "  </thead>\n",
       "  <tbody>\n",
       "    <tr>\n",
       "      <th id=\"T_72311_level0_row0\" class=\"row_heading level0 row0\" >NUMBER OF PERSONS INJURED</th>\n",
       "      <td id=\"T_72311_row0_col0\" class=\"data row0 col0\" >1.000000</td>\n",
       "      <td id=\"T_72311_row0_col1\" class=\"data row0 col1\" >0.018299</td>\n",
       "      <td id=\"T_72311_row0_col2\" class=\"data row0 col2\" >0.310923</td>\n",
       "      <td id=\"T_72311_row0_col3\" class=\"data row0 col3\" >0.005999</td>\n",
       "      <td id=\"T_72311_row0_col4\" class=\"data row0 col4\" >0.211041</td>\n",
       "      <td id=\"T_72311_row0_col5\" class=\"data row0 col5\" >0.007687</td>\n",
       "      <td id=\"T_72311_row0_col6\" class=\"data row0 col6\" >0.880273</td>\n",
       "      <td id=\"T_72311_row0_col7\" class=\"data row0 col7\" >0.034389</td>\n",
       "      <td id=\"T_72311_row0_col8\" class=\"data row0 col8\" >0.007688</td>\n",
       "      <td id=\"T_72311_row0_col9\" class=\"data row0 col9\" >0.012763</td>\n",
       "      <td id=\"T_72311_row0_col10\" class=\"data row0 col10\" >0.016024</td>\n",
       "      <td id=\"T_72311_row0_col11\" class=\"data row0 col11\" >0.001330</td>\n",
       "      <td id=\"T_72311_row0_col12\" class=\"data row0 col12\" >0.011106</td>\n",
       "      <td id=\"T_72311_row0_col13\" class=\"data row0 col13\" >0.036192</td>\n",
       "      <td id=\"T_72311_row0_col14\" class=\"data row0 col14\" >0.040172</td>\n",
       "    </tr>\n",
       "    <tr>\n",
       "      <th id=\"T_72311_level0_row1\" class=\"row_heading level0 row1\" >NUMBER OF PERSONS KILLED</th>\n",
       "      <td id=\"T_72311_row1_col0\" class=\"data row1 col0\" >0.018299</td>\n",
       "      <td id=\"T_72311_row1_col1\" class=\"data row1 col1\" >1.000000</td>\n",
       "      <td id=\"T_72311_row1_col2\" class=\"data row1 col2\" >0.001646</td>\n",
       "      <td id=\"T_72311_row1_col3\" class=\"data row1 col3\" >0.746239</td>\n",
       "      <td id=\"T_72311_row1_col4\" class=\"data row1 col4\" >0.003407</td>\n",
       "      <td id=\"T_72311_row1_col5\" class=\"data row1 col5\" >0.281223</td>\n",
       "      <td id=\"T_72311_row1_col6\" class=\"data row1 col6\" >0.020775</td>\n",
       "      <td id=\"T_72311_row1_col7\" class=\"data row1 col7\" >0.581112</td>\n",
       "      <td id=\"T_72311_row1_col8\" class=\"data row1 col8\" >0.000851</td>\n",
       "      <td id=\"T_72311_row1_col9\" class=\"data row1 col9\" >0.009005</td>\n",
       "      <td id=\"T_72311_row1_col10\" class=\"data row1 col10\" >0.002675</td>\n",
       "      <td id=\"T_72311_row1_col11\" class=\"data row1 col11\" >0.001815</td>\n",
       "      <td id=\"T_72311_row1_col12\" class=\"data row1 col12\" >0.000885</td>\n",
       "      <td id=\"T_72311_row1_col13\" class=\"data row1 col13\" >0.005736</td>\n",
       "      <td id=\"T_72311_row1_col14\" class=\"data row1 col14\" >0.010798</td>\n",
       "    </tr>\n",
       "    <tr>\n",
       "      <th id=\"T_72311_level0_row2\" class=\"row_heading level0 row2\" >NUMBER OF PEDESTRIANS INJURED</th>\n",
       "      <td id=\"T_72311_row2_col0\" class=\"data row2 col0\" >0.310923</td>\n",
       "      <td id=\"T_72311_row2_col1\" class=\"data row2 col1\" >0.001646</td>\n",
       "      <td id=\"T_72311_row2_col2\" class=\"data row2 col2\" >1.000000</td>\n",
       "      <td id=\"T_72311_row2_col3\" class=\"data row2 col3\" >0.002204</td>\n",
       "      <td id=\"T_72311_row2_col4\" class=\"data row2 col4\" >0.042999</td>\n",
       "      <td id=\"T_72311_row2_col5\" class=\"data row2 col5\" >0.002749</td>\n",
       "      <td id=\"T_72311_row2_col6\" class=\"data row2 col6\" >0.069154</td>\n",
       "      <td id=\"T_72311_row2_col7\" class=\"data row2 col7\" >0.001523</td>\n",
       "      <td id=\"T_72311_row2_col8\" class=\"data row2 col8\" >0.019626</td>\n",
       "      <td id=\"T_72311_row2_col9\" class=\"data row2 col9\" >0.033282</td>\n",
       "      <td id=\"T_72311_row2_col10\" class=\"data row2 col10\" >0.015250</td>\n",
       "      <td id=\"T_72311_row2_col11\" class=\"data row2 col11\" >0.018552</td>\n",
       "      <td id=\"T_72311_row2_col12\" class=\"data row2 col12\" >0.001802</td>\n",
       "      <td id=\"T_72311_row2_col13\" class=\"data row2 col13\" >0.034077</td>\n",
       "      <td id=\"T_72311_row2_col14\" class=\"data row2 col14\" >0.034639</td>\n",
       "    </tr>\n",
       "    <tr>\n",
       "      <th id=\"T_72311_level0_row3\" class=\"row_heading level0 row3\" >NUMBER OF PEDESTRIANS KILLED</th>\n",
       "      <td id=\"T_72311_row3_col0\" class=\"data row3 col0\" >0.005999</td>\n",
       "      <td id=\"T_72311_row3_col1\" class=\"data row3 col1\" >0.746239</td>\n",
       "      <td id=\"T_72311_row3_col2\" class=\"data row3 col2\" >0.002204</td>\n",
       "      <td id=\"T_72311_row3_col3\" class=\"data row3 col3\" >1.000000</td>\n",
       "      <td id=\"T_72311_row3_col4\" class=\"data row3 col4\" >0.005473</td>\n",
       "      <td id=\"T_72311_row3_col5\" class=\"data row3 col5\" >0.000309</td>\n",
       "      <td id=\"T_72311_row3_col6\" class=\"data row3 col6\" >0.003754</td>\n",
       "      <td id=\"T_72311_row3_col7\" class=\"data row3 col7\" >0.000638</td>\n",
       "      <td id=\"T_72311_row3_col8\" class=\"data row3 col8\" >0.004805</td>\n",
       "      <td id=\"T_72311_row3_col9\" class=\"data row3 col9\" >0.005024</td>\n",
       "      <td id=\"T_72311_row3_col10\" class=\"data row3 col10\" >0.001167</td>\n",
       "      <td id=\"T_72311_row3_col11\" class=\"data row3 col11\" >0.001695</td>\n",
       "      <td id=\"T_72311_row3_col12\" class=\"data row3 col12\" >0.000154</td>\n",
       "      <td id=\"T_72311_row3_col13\" class=\"data row3 col13\" >0.005104</td>\n",
       "      <td id=\"T_72311_row3_col14\" class=\"data row3 col14\" >0.009761</td>\n",
       "    </tr>\n",
       "    <tr>\n",
       "      <th id=\"T_72311_level0_row4\" class=\"row_heading level0 row4\" >NUMBER OF CYCLIST INJURED</th>\n",
       "      <td id=\"T_72311_row4_col0\" class=\"data row4 col0\" >0.211041</td>\n",
       "      <td id=\"T_72311_row4_col1\" class=\"data row4 col1\" >0.003407</td>\n",
       "      <td id=\"T_72311_row4_col2\" class=\"data row4 col2\" >0.042999</td>\n",
       "      <td id=\"T_72311_row4_col3\" class=\"data row4 col3\" >0.005473</td>\n",
       "      <td id=\"T_72311_row4_col4\" class=\"data row4 col4\" >1.000000</td>\n",
       "      <td id=\"T_72311_row4_col5\" class=\"data row4 col5\" >0.011881</td>\n",
       "      <td id=\"T_72311_row4_col6\" class=\"data row4 col6\" >0.057423</td>\n",
       "      <td id=\"T_72311_row4_col7\" class=\"data row4 col7\" >0.004262</td>\n",
       "      <td id=\"T_72311_row4_col8\" class=\"data row4 col8\" >0.001379</td>\n",
       "      <td id=\"T_72311_row4_col9\" class=\"data row4 col9\" >0.035261</td>\n",
       "      <td id=\"T_72311_row4_col10\" class=\"data row4 col10\" >0.027423</td>\n",
       "      <td id=\"T_72311_row4_col11\" class=\"data row4 col11\" >0.011537</td>\n",
       "      <td id=\"T_72311_row4_col12\" class=\"data row4 col12\" >0.042723</td>\n",
       "      <td id=\"T_72311_row4_col13\" class=\"data row4 col13\" >0.015297</td>\n",
       "      <td id=\"T_72311_row4_col14\" class=\"data row4 col14\" >0.016904</td>\n",
       "    </tr>\n",
       "    <tr>\n",
       "      <th id=\"T_72311_level0_row5\" class=\"row_heading level0 row5\" >NUMBER OF CYCLIST KILLED</th>\n",
       "      <td id=\"T_72311_row5_col0\" class=\"data row5 col0\" >0.007687</td>\n",
       "      <td id=\"T_72311_row5_col1\" class=\"data row5 col1\" >0.281223</td>\n",
       "      <td id=\"T_72311_row5_col2\" class=\"data row5 col2\" >0.002749</td>\n",
       "      <td id=\"T_72311_row5_col3\" class=\"data row5 col3\" >0.000309</td>\n",
       "      <td id=\"T_72311_row5_col4\" class=\"data row5 col4\" >0.011881</td>\n",
       "      <td id=\"T_72311_row5_col5\" class=\"data row5 col5\" >1.000000</td>\n",
       "      <td id=\"T_72311_row5_col6\" class=\"data row5 col6\" >0.005900</td>\n",
       "      <td id=\"T_72311_row5_col7\" class=\"data row5 col7\" >0.000241</td>\n",
       "      <td id=\"T_72311_row5_col8\" class=\"data row5 col8\" >0.001498</td>\n",
       "      <td id=\"T_72311_row5_col9\" class=\"data row5 col9\" >0.004428</td>\n",
       "      <td id=\"T_72311_row5_col10\" class=\"data row5 col10\" >0.004905</td>\n",
       "      <td id=\"T_72311_row5_col11\" class=\"data row5 col11\" >0.002944</td>\n",
       "      <td id=\"T_72311_row5_col12\" class=\"data row5 col12\" >0.006708</td>\n",
       "      <td id=\"T_72311_row5_col13\" class=\"data row5 col13\" >0.004429</td>\n",
       "      <td id=\"T_72311_row5_col14\" class=\"data row5 col14\" >0.004170</td>\n",
       "    </tr>\n",
       "    <tr>\n",
       "      <th id=\"T_72311_level0_row6\" class=\"row_heading level0 row6\" >NUMBER OF MOTORIST INJURED</th>\n",
       "      <td id=\"T_72311_row6_col0\" class=\"data row6 col0\" >0.880273</td>\n",
       "      <td id=\"T_72311_row6_col1\" class=\"data row6 col1\" >0.020775</td>\n",
       "      <td id=\"T_72311_row6_col2\" class=\"data row6 col2\" >0.069154</td>\n",
       "      <td id=\"T_72311_row6_col3\" class=\"data row6 col3\" >0.003754</td>\n",
       "      <td id=\"T_72311_row6_col4\" class=\"data row6 col4\" >0.057423</td>\n",
       "      <td id=\"T_72311_row6_col5\" class=\"data row6 col5\" >0.005900</td>\n",
       "      <td id=\"T_72311_row6_col6\" class=\"data row6 col6\" >1.000000</td>\n",
       "      <td id=\"T_72311_row6_col7\" class=\"data row6 col7\" >0.037956</td>\n",
       "      <td id=\"T_72311_row6_col8\" class=\"data row6 col8\" >0.016078</td>\n",
       "      <td id=\"T_72311_row6_col9\" class=\"data row6 col9\" >0.012201</td>\n",
       "      <td id=\"T_72311_row6_col10\" class=\"data row6 col10\" >0.002332</td>\n",
       "      <td id=\"T_72311_row6_col11\" class=\"data row6 col11\" >0.012999</td>\n",
       "      <td id=\"T_72311_row6_col12\" class=\"data row6 col12\" >0.024693</td>\n",
       "      <td id=\"T_72311_row6_col13\" class=\"data row6 col13\" >0.019071</td>\n",
       "      <td id=\"T_72311_row6_col14\" class=\"data row6 col14\" >0.022895</td>\n",
       "    </tr>\n",
       "    <tr>\n",
       "      <th id=\"T_72311_level0_row7\" class=\"row_heading level0 row7\" >NUMBER OF MOTORIST KILLED</th>\n",
       "      <td id=\"T_72311_row7_col0\" class=\"data row7 col0\" >0.034389</td>\n",
       "      <td id=\"T_72311_row7_col1\" class=\"data row7 col1\" >0.581112</td>\n",
       "      <td id=\"T_72311_row7_col2\" class=\"data row7 col2\" >0.001523</td>\n",
       "      <td id=\"T_72311_row7_col3\" class=\"data row7 col3\" >0.000638</td>\n",
       "      <td id=\"T_72311_row7_col4\" class=\"data row7 col4\" >0.004262</td>\n",
       "      <td id=\"T_72311_row7_col5\" class=\"data row7 col5\" >0.000241</td>\n",
       "      <td id=\"T_72311_row7_col6\" class=\"data row7 col6\" >0.037956</td>\n",
       "      <td id=\"T_72311_row7_col7\" class=\"data row7 col7\" >1.000000</td>\n",
       "      <td id=\"T_72311_row7_col8\" class=\"data row7 col8\" >0.005948</td>\n",
       "      <td id=\"T_72311_row7_col9\" class=\"data row7 col9\" >0.007638</td>\n",
       "      <td id=\"T_72311_row7_col10\" class=\"data row7 col10\" >0.000806</td>\n",
       "      <td id=\"T_72311_row7_col11\" class=\"data row7 col11\" >0.002203</td>\n",
       "      <td id=\"T_72311_row7_col12\" class=\"data row7 col12\" >0.001464</td>\n",
       "      <td id=\"T_72311_row7_col13\" class=\"data row7 col13\" >0.002057</td>\n",
       "      <td id=\"T_72311_row7_col14\" class=\"data row7 col14\" >0.004543</td>\n",
       "    </tr>\n",
       "    <tr>\n",
       "      <th id=\"T_72311_level0_row8\" class=\"row_heading level0 row8\" >dayofweek</th>\n",
       "      <td id=\"T_72311_row8_col0\" class=\"data row8 col0\" >0.007688</td>\n",
       "      <td id=\"T_72311_row8_col1\" class=\"data row8 col1\" >0.000851</td>\n",
       "      <td id=\"T_72311_row8_col2\" class=\"data row8 col2\" >0.019626</td>\n",
       "      <td id=\"T_72311_row8_col3\" class=\"data row8 col3\" >0.004805</td>\n",
       "      <td id=\"T_72311_row8_col4\" class=\"data row8 col4\" >0.001379</td>\n",
       "      <td id=\"T_72311_row8_col5\" class=\"data row8 col5\" >0.001498</td>\n",
       "      <td id=\"T_72311_row8_col6\" class=\"data row8 col6\" >0.016078</td>\n",
       "      <td id=\"T_72311_row8_col7\" class=\"data row8 col7\" >0.005948</td>\n",
       "      <td id=\"T_72311_row8_col8\" class=\"data row8 col8\" >1.000000</td>\n",
       "      <td id=\"T_72311_row8_col9\" class=\"data row8 col9\" >0.015260</td>\n",
       "      <td id=\"T_72311_row8_col10\" class=\"data row8 col10\" >0.012254</td>\n",
       "      <td id=\"T_72311_row8_col11\" class=\"data row8 col11\" >0.003449</td>\n",
       "      <td id=\"T_72311_row8_col12\" class=\"data row8 col12\" >0.007447</td>\n",
       "      <td id=\"T_72311_row8_col13\" class=\"data row8 col13\" >0.027624</td>\n",
       "      <td id=\"T_72311_row8_col14\" class=\"data row8 col14\" >0.030754</td>\n",
       "    </tr>\n",
       "    <tr>\n",
       "      <th id=\"T_72311_level0_row9\" class=\"row_heading level0 row9\" >time</th>\n",
       "      <td id=\"T_72311_row9_col0\" class=\"data row9 col0\" >0.012763</td>\n",
       "      <td id=\"T_72311_row9_col1\" class=\"data row9 col1\" >0.009005</td>\n",
       "      <td id=\"T_72311_row9_col2\" class=\"data row9 col2\" >0.033282</td>\n",
       "      <td id=\"T_72311_row9_col3\" class=\"data row9 col3\" >0.005024</td>\n",
       "      <td id=\"T_72311_row9_col4\" class=\"data row9 col4\" >0.035261</td>\n",
       "      <td id=\"T_72311_row9_col5\" class=\"data row9 col5\" >0.004428</td>\n",
       "      <td id=\"T_72311_row9_col6\" class=\"data row9 col6\" >0.012201</td>\n",
       "      <td id=\"T_72311_row9_col7\" class=\"data row9 col7\" >0.007638</td>\n",
       "      <td id=\"T_72311_row9_col8\" class=\"data row9 col8\" >0.015260</td>\n",
       "      <td id=\"T_72311_row9_col9\" class=\"data row9 col9\" >1.000000</td>\n",
       "      <td id=\"T_72311_row9_col10\" class=\"data row9 col10\" >0.004650</td>\n",
       "      <td id=\"T_72311_row9_col11\" class=\"data row9 col11\" >0.007728</td>\n",
       "      <td id=\"T_72311_row9_col12\" class=\"data row9 col12\" >0.023517</td>\n",
       "      <td id=\"T_72311_row9_col13\" class=\"data row9 col13\" >0.004536</td>\n",
       "      <td id=\"T_72311_row9_col14\" class=\"data row9 col14\" >0.116988</td>\n",
       "    </tr>\n",
       "    <tr>\n",
       "      <th id=\"T_72311_level0_row10\" class=\"row_heading level0 row10\" >speed_bumps</th>\n",
       "      <td id=\"T_72311_row10_col0\" class=\"data row10 col0\" >0.016024</td>\n",
       "      <td id=\"T_72311_row10_col1\" class=\"data row10 col1\" >0.002675</td>\n",
       "      <td id=\"T_72311_row10_col2\" class=\"data row10 col2\" >0.015250</td>\n",
       "      <td id=\"T_72311_row10_col3\" class=\"data row10 col3\" >0.001167</td>\n",
       "      <td id=\"T_72311_row10_col4\" class=\"data row10 col4\" >0.027423</td>\n",
       "      <td id=\"T_72311_row10_col5\" class=\"data row10 col5\" >0.004905</td>\n",
       "      <td id=\"T_72311_row10_col6\" class=\"data row10 col6\" >0.002332</td>\n",
       "      <td id=\"T_72311_row10_col7\" class=\"data row10 col7\" >0.000806</td>\n",
       "      <td id=\"T_72311_row10_col8\" class=\"data row10 col8\" >0.012254</td>\n",
       "      <td id=\"T_72311_row10_col9\" class=\"data row10 col9\" >0.004650</td>\n",
       "      <td id=\"T_72311_row10_col10\" class=\"data row10 col10\" >1.000000</td>\n",
       "      <td id=\"T_72311_row10_col11\" class=\"data row10 col11\" >0.016019</td>\n",
       "      <td id=\"T_72311_row10_col12\" class=\"data row10 col12\" >0.124730</td>\n",
       "      <td id=\"T_72311_row10_col13\" class=\"data row10 col13\" >0.072772</td>\n",
       "      <td id=\"T_72311_row10_col14\" class=\"data row10 col14\" >0.073549</td>\n",
       "    </tr>\n",
       "    <tr>\n",
       "      <th id=\"T_72311_level0_row11\" class=\"row_heading level0 row11\" >speed_limits</th>\n",
       "      <td id=\"T_72311_row11_col0\" class=\"data row11 col0\" >0.001330</td>\n",
       "      <td id=\"T_72311_row11_col1\" class=\"data row11 col1\" >0.001815</td>\n",
       "      <td id=\"T_72311_row11_col2\" class=\"data row11 col2\" >0.018552</td>\n",
       "      <td id=\"T_72311_row11_col3\" class=\"data row11 col3\" >0.001695</td>\n",
       "      <td id=\"T_72311_row11_col4\" class=\"data row11 col4\" >0.011537</td>\n",
       "      <td id=\"T_72311_row11_col5\" class=\"data row11 col5\" >0.002944</td>\n",
       "      <td id=\"T_72311_row11_col6\" class=\"data row11 col6\" >0.012999</td>\n",
       "      <td id=\"T_72311_row11_col7\" class=\"data row11 col7\" >0.002203</td>\n",
       "      <td id=\"T_72311_row11_col8\" class=\"data row11 col8\" >0.003449</td>\n",
       "      <td id=\"T_72311_row11_col9\" class=\"data row11 col9\" >0.007728</td>\n",
       "      <td id=\"T_72311_row11_col10\" class=\"data row11 col10\" >0.016019</td>\n",
       "      <td id=\"T_72311_row11_col11\" class=\"data row11 col11\" >1.000000</td>\n",
       "      <td id=\"T_72311_row11_col12\" class=\"data row11 col12\" >0.015366</td>\n",
       "      <td id=\"T_72311_row11_col13\" class=\"data row11 col13\" >0.087219</td>\n",
       "      <td id=\"T_72311_row11_col14\" class=\"data row11 col14\" >0.091307</td>\n",
       "    </tr>\n",
       "    <tr>\n",
       "      <th id=\"T_72311_level0_row12\" class=\"row_heading level0 row12\" >bike_lanes</th>\n",
       "      <td id=\"T_72311_row12_col0\" class=\"data row12 col0\" >0.011106</td>\n",
       "      <td id=\"T_72311_row12_col1\" class=\"data row12 col1\" >0.000885</td>\n",
       "      <td id=\"T_72311_row12_col2\" class=\"data row12 col2\" >0.001802</td>\n",
       "      <td id=\"T_72311_row12_col3\" class=\"data row12 col3\" >0.000154</td>\n",
       "      <td id=\"T_72311_row12_col4\" class=\"data row12 col4\" >0.042723</td>\n",
       "      <td id=\"T_72311_row12_col5\" class=\"data row12 col5\" >0.006708</td>\n",
       "      <td id=\"T_72311_row12_col6\" class=\"data row12 col6\" >0.024693</td>\n",
       "      <td id=\"T_72311_row12_col7\" class=\"data row12 col7\" >0.001464</td>\n",
       "      <td id=\"T_72311_row12_col8\" class=\"data row12 col8\" >0.007447</td>\n",
       "      <td id=\"T_72311_row12_col9\" class=\"data row12 col9\" >0.023517</td>\n",
       "      <td id=\"T_72311_row12_col10\" class=\"data row12 col10\" >0.124730</td>\n",
       "      <td id=\"T_72311_row12_col11\" class=\"data row12 col11\" >0.015366</td>\n",
       "      <td id=\"T_72311_row12_col12\" class=\"data row12 col12\" >1.000000</td>\n",
       "      <td id=\"T_72311_row12_col13\" class=\"data row12 col13\" >0.021873</td>\n",
       "      <td id=\"T_72311_row12_col14\" class=\"data row12 col14\" >0.020679</td>\n",
       "    </tr>\n",
       "    <tr>\n",
       "      <th id=\"T_72311_level0_row13\" class=\"row_heading level0 row13\" >medianWeek</th>\n",
       "      <td id=\"T_72311_row13_col0\" class=\"data row13 col0\" >0.036192</td>\n",
       "      <td id=\"T_72311_row13_col1\" class=\"data row13 col1\" >0.005736</td>\n",
       "      <td id=\"T_72311_row13_col2\" class=\"data row13 col2\" >0.034077</td>\n",
       "      <td id=\"T_72311_row13_col3\" class=\"data row13 col3\" >0.005104</td>\n",
       "      <td id=\"T_72311_row13_col4\" class=\"data row13 col4\" >0.015297</td>\n",
       "      <td id=\"T_72311_row13_col5\" class=\"data row13 col5\" >0.004429</td>\n",
       "      <td id=\"T_72311_row13_col6\" class=\"data row13 col6\" >0.019071</td>\n",
       "      <td id=\"T_72311_row13_col7\" class=\"data row13 col7\" >0.002057</td>\n",
       "      <td id=\"T_72311_row13_col8\" class=\"data row13 col8\" >0.027624</td>\n",
       "      <td id=\"T_72311_row13_col9\" class=\"data row13 col9\" >0.004536</td>\n",
       "      <td id=\"T_72311_row13_col10\" class=\"data row13 col10\" >0.072772</td>\n",
       "      <td id=\"T_72311_row13_col11\" class=\"data row13 col11\" >0.087219</td>\n",
       "      <td id=\"T_72311_row13_col12\" class=\"data row13 col12\" >0.021873</td>\n",
       "      <td id=\"T_72311_row13_col13\" class=\"data row13 col13\" >1.000000</td>\n",
       "      <td id=\"T_72311_row13_col14\" class=\"data row13 col14\" >0.895898</td>\n",
       "    </tr>\n",
       "    <tr>\n",
       "      <th id=\"T_72311_level0_row14\" class=\"row_heading level0 row14\" >medianHour</th>\n",
       "      <td id=\"T_72311_row14_col0\" class=\"data row14 col0\" >0.040172</td>\n",
       "      <td id=\"T_72311_row14_col1\" class=\"data row14 col1\" >0.010798</td>\n",
       "      <td id=\"T_72311_row14_col2\" class=\"data row14 col2\" >0.034639</td>\n",
       "      <td id=\"T_72311_row14_col3\" class=\"data row14 col3\" >0.009761</td>\n",
       "      <td id=\"T_72311_row14_col4\" class=\"data row14 col4\" >0.016904</td>\n",
       "      <td id=\"T_72311_row14_col5\" class=\"data row14 col5\" >0.004170</td>\n",
       "      <td id=\"T_72311_row14_col6\" class=\"data row14 col6\" >0.022895</td>\n",
       "      <td id=\"T_72311_row14_col7\" class=\"data row14 col7\" >0.004543</td>\n",
       "      <td id=\"T_72311_row14_col8\" class=\"data row14 col8\" >0.030754</td>\n",
       "      <td id=\"T_72311_row14_col9\" class=\"data row14 col9\" >0.116988</td>\n",
       "      <td id=\"T_72311_row14_col10\" class=\"data row14 col10\" >0.073549</td>\n",
       "      <td id=\"T_72311_row14_col11\" class=\"data row14 col11\" >0.091307</td>\n",
       "      <td id=\"T_72311_row14_col12\" class=\"data row14 col12\" >0.020679</td>\n",
       "      <td id=\"T_72311_row14_col13\" class=\"data row14 col13\" >0.895898</td>\n",
       "      <td id=\"T_72311_row14_col14\" class=\"data row14 col14\" >1.000000</td>\n",
       "    </tr>\n",
       "  </tbody>\n",
       "</table>\n"
      ],
      "text/plain": [
       "<pandas.io.formats.style.Styler at 0x14d517100>"
      ]
     },
     "execution_count": 37,
     "metadata": {},
     "output_type": "execute_result"
    }
   ],
   "source": [
    "# Correlation Matrix \n",
    "corr = collisions.corr().abs()\n",
    "corr.style.background_gradient(cmap='coolwarm')"
   ]
  },
  {
   "cell_type": "markdown",
   "id": "076b057f",
   "metadata": {},
   "source": [
    "## Logistic Regression"
   ]
  },
  {
   "cell_type": "code",
   "execution_count": 50,
   "id": "0b18203d",
   "metadata": {},
   "outputs": [
    {
     "name": "stdout",
     "output_type": "stream",
     "text": [
      "Logistic Regression Recall Score:  0.5827338129496403\n"
     ]
    }
   ],
   "source": [
    "# SMOTE balancing\n",
    "logistic = LogisticRegression()\n",
    "logistic.fit(X_train_Bal, y_train_Bal)\n",
    "logistic.score(X_test, y_test)\n",
    "\n",
    "SMOTE_logit = recall_score(y_test,logistic.predict(X_test))\n",
    "print(\"Logistic Regression Recall Score: \", SMOTE_logit)"
   ]
  },
  {
   "cell_type": "code",
   "execution_count": 51,
   "id": "17687e6e",
   "metadata": {},
   "outputs": [],
   "source": [
    "# add first result in empty df\n",
    "recall_scores.loc[0] = 'Logistic', round(SMOTE_logit, 2)"
   ]
  },
  {
   "cell_type": "code",
   "execution_count": 52,
   "id": "3f7d860f",
   "metadata": {},
   "outputs": [
    {
     "data": {
      "text/html": [
       "<div>\n",
       "<style scoped>\n",
       "    .dataframe tbody tr th:only-of-type {\n",
       "        vertical-align: middle;\n",
       "    }\n",
       "\n",
       "    .dataframe tbody tr th {\n",
       "        vertical-align: top;\n",
       "    }\n",
       "\n",
       "    .dataframe thead th {\n",
       "        text-align: right;\n",
       "    }\n",
       "</style>\n",
       "<table border=\"1\" class=\"dataframe\">\n",
       "  <thead>\n",
       "    <tr style=\"text-align: right;\">\n",
       "      <th></th>\n",
       "      <th>Feature</th>\n",
       "      <th>Score</th>\n",
       "    </tr>\n",
       "  </thead>\n",
       "  <tbody>\n",
       "    <tr>\n",
       "      <th>3</th>\n",
       "      <td>speed_limits</td>\n",
       "      <td>0.333627</td>\n",
       "    </tr>\n",
       "    <tr>\n",
       "      <th>2</th>\n",
       "      <td>speed_bumps</td>\n",
       "      <td>0.120076</td>\n",
       "    </tr>\n",
       "    <tr>\n",
       "      <th>0</th>\n",
       "      <td>dayofweek</td>\n",
       "      <td>0.044684</td>\n",
       "    </tr>\n",
       "    <tr>\n",
       "      <th>4</th>\n",
       "      <td>bike_lanes</td>\n",
       "      <td>0.033126</td>\n",
       "    </tr>\n",
       "    <tr>\n",
       "      <th>1</th>\n",
       "      <td>time</td>\n",
       "      <td>0.016962</td>\n",
       "    </tr>\n",
       "    <tr>\n",
       "      <th>6</th>\n",
       "      <td>medianHour</td>\n",
       "      <td>0.001758</td>\n",
       "    </tr>\n",
       "    <tr>\n",
       "      <th>5</th>\n",
       "      <td>medianWeek</td>\n",
       "      <td>0.001273</td>\n",
       "    </tr>\n",
       "  </tbody>\n",
       "</table>\n",
       "</div>"
      ],
      "text/plain": [
       "        Feature     Score\n",
       "3  speed_limits  0.333627\n",
       "2   speed_bumps  0.120076\n",
       "0     dayofweek  0.044684\n",
       "4    bike_lanes  0.033126\n",
       "1          time  0.016962\n",
       "6    medianHour  0.001758\n",
       "5    medianWeek  0.001273"
      ]
     },
     "execution_count": 52,
     "metadata": {},
     "output_type": "execute_result"
    },
    {
     "data": {
      "image/png": "[encoded data removed]",
      "text/plain": [
       "<Figure size 432x288 with 1 Axes>"
      ]
     },
     "metadata": {},
     "output_type": "display_data"
    }
   ],
   "source": [
    "## Logistic Regression Feature Importance\n",
    "importance = logit_final.coef_[0]\n",
    "feature_importance = pd.DataFrame(columns = ('Feature', 'Score'))\n",
    "\n",
    "# summarize feature importance\n",
    "for i,v in enumerate(importance):\n",
    "    feature_importance.loc[i] = X_train_Bal.columns[i], np.abs(v)\n",
    "    \n",
    "# plot feature importance\n",
    "scores = feature_importance.sort_values(by = 'Score', ascending=False)\n",
    "scores.plot.bar()\n",
    "scores"
   ]
  },
  {
   "cell_type": "markdown",
   "id": "c2007f46",
   "metadata": {},
   "source": [
    "## Random Forest"
   ]
  },
  {
   "cell_type": "code",
   "execution_count": 62,
   "id": "00d58298",
   "metadata": {},
   "outputs": [
    {
     "name": "stdout",
     "output_type": "stream",
     "text": [
      "SMOTE: \n",
      "RF BaseLine Train Set Recall Score: 0.5205761316872428\n"
     ]
    }
   ],
   "source": [
    "from sklearn import ensemble\n",
    "randomForest = ensemble.RandomForestClassifier()\n",
    "\n",
    "# fit RF model on SMOTE training set\n",
    "randomForest.set_params(random_state=0)\n",
    "\n",
    "randomForest.fit(X_train, y_train)\n",
    "\n",
    "SMOTE_rf = recall_score(y_train, randomForest.predict(X_train))\n",
    "\n",
    "# baseline score\n",
    "print('SMOTE: \\nRF BaseLine Train Set Recall Score:', SMOTE_rf)\n",
    "#print('RF BaseLine Validation Set Recall Score:', recall_score(y_test, randomForest.predict(X_test)))"
   ]
  },
  {
   "cell_type": "code",
   "execution_count": 63,
   "id": "feed9cc2",
   "metadata": {},
   "outputs": [],
   "source": [
    "#add to df for comparison\n",
    "recall_scores.loc[1] = 'RF', round(SMOTE_rf, 2)"
   ]
  },
  {
   "cell_type": "markdown",
   "id": "edcf419b",
   "metadata": {},
   "source": [
    "## KNN"
   ]
  },
  {
   "cell_type": "code",
   "execution_count": 66,
   "id": "29b883ae",
   "metadata": {},
   "outputs": [
    {
     "name": "stdout",
     "output_type": "stream",
     "text": [
      "SMOTE: \n",
      "KNN Baseline Training Set recall score:  0.571725804693084\n"
     ]
    }
   ],
   "source": [
    "knn = KNeighborsClassifier()\n",
    "knn.fit(X_train_Bal, y_train_Bal)\n",
    "\n",
    "SMOTE_knn = recall_score(y_train_Bal,knn.predict(X_train_Bal))\n",
    "\n",
    "print(\"SMOTE: \\nKNN Baseline Training Set recall score: \", SMOTE_knn)\n",
    "#print(\"KNN Baseline Validation Set recall score: \", recall_score(y_test,knn.predict(X_test)))"
   ]
  },
  {
   "cell_type": "code",
   "execution_count": 67,
   "id": "8db3726a",
   "metadata": {},
   "outputs": [],
   "source": [
    "recall_scores.loc[2] = 'KNN', round(SMOTE_knn, 2)"
   ]
  },
  {
   "cell_type": "markdown",
   "id": "452991df",
   "metadata": {},
   "source": [
    "## Comparing Models"
   ]
  },
  {
   "cell_type": "code",
   "execution_count": 84,
   "id": "94274428",
   "metadata": {},
   "outputs": [
    {
     "data": {
      "text/html": [
       "<div>\n",
       "<style scoped>\n",
       "    .dataframe tbody tr th:only-of-type {\n",
       "        vertical-align: middle;\n",
       "    }\n",
       "\n",
       "    .dataframe tbody tr th {\n",
       "        vertical-align: top;\n",
       "    }\n",
       "\n",
       "    .dataframe thead th {\n",
       "        text-align: right;\n",
       "    }\n",
       "</style>\n",
       "<table border=\"1\" class=\"dataframe\">\n",
       "  <thead>\n",
       "    <tr style=\"text-align: right;\">\n",
       "      <th></th>\n",
       "      <th>Model</th>\n",
       "      <th>Score</th>\n",
       "    </tr>\n",
       "  </thead>\n",
       "  <tbody>\n",
       "    <tr>\n",
       "      <th>0</th>\n",
       "      <td>Logistic</td>\n",
       "      <td>0.58</td>\n",
       "    </tr>\n",
       "    <tr>\n",
       "      <th>1</th>\n",
       "      <td>RF</td>\n",
       "      <td>0.52</td>\n",
       "    </tr>\n",
       "    <tr>\n",
       "      <th>2</th>\n",
       "      <td>KNN</td>\n",
       "      <td>0.57</td>\n",
       "    </tr>\n",
       "  </tbody>\n",
       "</table>\n",
       "</div>"
      ],
      "text/plain": [
       "      Model  Score\n",
       "0  Logistic   0.58\n",
       "1        RF   0.52\n",
       "2       KNN   0.57"
      ]
     },
     "execution_count": 84,
     "metadata": {},
     "output_type": "execute_result"
    },
    {
     "data": {
      "image/png": "[encoded data removed]",
      "text/plain": [
       "<Figure size 432x288 with 1 Axes>"
      ]
     },
     "metadata": {},
     "output_type": "display_data"
    }
   ],
   "source": [
    "recall_scores.plot.bar(x = 'Model', color = 'skyblue')\n",
    "plt.title('Model Recall Performance')\n",
    "recall_scores"
   ]
  }
 ],
 "metadata": {
  "kernelspec": {
   "display_name": "Python 3 (ipykernel)",
   "language": "python",
   "name": "python3"
  },
  "language_info": {
   "codemirror_mode": {
    "name": "ipython",
    "version": 3
   },
   "file_extension": ".py",
   "mimetype": "text/x-python",
   "name": "python",
   "nbconvert_exporter": "python",
   "pygments_lexer": "ipython3",
   "version": "3.10.4"
  }
 },
 "nbformat": 4,
 "nbformat_minor": 5
}
