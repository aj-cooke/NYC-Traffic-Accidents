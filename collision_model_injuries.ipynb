{
 "cells": [
  {
   "cell_type": "markdown",
   "metadata": {},
   "source": [
    "# Injuries in Collision Prediction"
   ]
  },
  {
   "cell_type": "code",
   "execution_count": 1,
   "metadata": {},
   "outputs": [],
   "source": [
    "import warnings\n",
    "import pandas as pd\n",
    "import sklearn\n",
    "warnings.filterwarnings('ignore')"
   ]
  },
  {
   "cell_type": "markdown",
   "metadata": {},
   "source": [
    "## Read data\n",
    "+ run the collision_model_features.py file to get three data sets.\n",
    "    + new_collisions\n",
    "    + traffic_byhour\n",
    "    + traffic_bydayofweek\n",
    "+ read the three table to this notebook"
   ]
  },
  {
   "cell_type": "code",
   "execution_count": 2,
   "metadata": {},
   "outputs": [
    {
     "name": "stdout",
     "output_type": "stream",
     "text": [
      "Index(['Unnamed: 0', 'collision_id', 'CRASH DATE', 'CRASH TIME', 'BOROUGH',\n",
      "       'ZIP CODE', 'LATITUDE', 'LONGITUDE', 'LOCATION', 'ON STREET NAME',\n",
      "       'CROSS STREET NAME', 'OFF STREET NAME', 'NUMBER OF PERSONS INJURED',\n",
      "       'NUMBER OF PERSONS KILLED', 'NUMBER OF PEDESTRIANS INJURED',\n",
      "       'NUMBER OF PEDESTRIANS KILLED', 'NUMBER OF CYCLIST INJURED',\n",
      "       'NUMBER OF CYCLIST KILLED', 'NUMBER OF MOTORIST INJURED',\n",
      "       'NUMBER OF MOTORIST KILLED', 'CONTRIBUTING FACTOR VEHICLE 1',\n",
      "       'CONTRIBUTING FACTOR VEHICLE 2', 'CONTRIBUTING FACTOR VEHICLE 3',\n",
      "       'CONTRIBUTING FACTOR VEHICLE 4', 'CONTRIBUTING FACTOR VEHICLE 5',\n",
      "       'COLLISION_ID', 'VEHICLE TYPE CODE 1', 'VEHICLE TYPE CODE 2',\n",
      "       'VEHICLE TYPE CODE 3', 'VEHICLE TYPE CODE 4', 'VEHICLE TYPE CODE 5',\n",
      "       'coords', 'index_right', 'Roadway.Name', 'From', 'To', 'int1', 'int2',\n",
      "       'zip1', 'zip2', 'll1', 'll2', 'streetID', 'lat1', 'long1', 'lat2',\n",
      "       'long2', 'dayofweek', 'time', 'speed_bumps', 'speed_limits',\n",
      "       'bike_lanes'],\n",
      "      dtype='object')\n",
      "Index(['Unnamed: 0', 'streetID', 'time', 'meanHour', 'stdHour', 'medianHour',\n",
      "       'minHour', 'maxHour', 'rangeHour'],\n",
      "      dtype='object')\n",
      "Index(['Unnamed: 0', 'streetID', 'dayofweek', 'meanWeek', 'stdWeek',\n",
      "       'medianWeek', 'minWeek', 'maxWeek', 'rangeWeek'],\n",
      "      dtype='object')\n"
     ]
    }
   ],
   "source": [
    "path = '../matched_data/crash_matched_data'\n",
    "collisions = pd.read_csv(\n",
    "    path + '/new_collisions.csv')\n",
    "traffic_byhour = pd.read_csv(\n",
    "    path + '/traffic_byhour.csv')\n",
    "traffic_bydayofweek = pd.read_csv(\n",
    "    path + '/traffic_bydayofweek.csv')\n",
    "print(collisions.columns)\n",
    "print(traffic_byhour.columns)\n",
    "print(traffic_bydayofweek.columns)"
   ]
  },
  {
   "cell_type": "code",
   "execution_count": 7,
   "metadata": {},
   "outputs": [],
   "source": [
    "# merge collisions dataset and two traffic datasets\n",
    "# there may be missing values after joining, because only limited traffic volumes were only recorded on limited days\n",
    "collisions = pd.merge(left=collisions, right=traffic_bydayofweek, how='left', on=['streetID','dayofweek'])\n",
    "collisions = pd.merge(left=collisions, right=traffic_byhour, how='left', on=['streetID', 'time'])"
   ]
  }
 ],
 "metadata": {
  "kernelspec": {
   "display_name": "Python 3.11.0 ('geoplotEnv')",
   "language": "python",
   "name": "python3"
  },
  "language_info": {
   "codemirror_mode": {
    "name": "ipython",
    "version": 3
   },
   "file_extension": ".py",
   "mimetype": "text/x-python",
   "name": "python",
   "nbconvert_exporter": "python",
   "pygments_lexer": "ipython3",
   "version": "3.11.0"
  },
  "orig_nbformat": 4,
  "vscode": {
   "interpreter": {
    "hash": "0f00fe399c34213fa5aac44acd745906a9257e5c95af5a9023b5a94b3efe86bb"
   }
  }
 },
 "nbformat": 4,
 "nbformat_minor": 2
}
